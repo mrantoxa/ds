{
 "cells": [
  {
   "cell_type": "code",
   "execution_count": 13,
   "id": "102c479b",
   "metadata": {},
   "outputs": [
    {
     "name": "stdout",
     "output_type": "stream",
     "text": [
      "3.7230820101533424\n"
     ]
    }
   ],
   "source": [
    "import math\n",
    "\n",
    "def count_value(x: float):\n",
    "\n",
    "    # Разбираем уравнение y = (cos(e^x) + ln((1+x)^2) + sqrt(e^cos(x) + sin^2(pi*x)) + sqrt(1/x) + cos(x^2)) ^ sin(x)\n",
    "\n",
    "    # Вычисляем cos(e^x)\n",
    "    value_1 = math.cos(math.exp(x)) \n",
    "\n",
    "    # Вычисляем ln((1+x)^2)\n",
    "    value_2 = math.log((1 + x)**2) \n",
    "\n",
    "    # Вычисляем sqrt(e^cosx + sin^2(πx))\n",
    "    value_3 = math.sqrt(math.exp(math.cos(x)) + (math.sin(math.pi * x))**2) \n",
    "    \n",
    "    # Вычисляем sqrt(1/x)\n",
    "    value_4 = math.sqrt(1/x)\n",
    "    \n",
    "    # Вычисляем cos(x^2)\n",
    "    value_5 = math.cos(x**2)\n",
    "    \n",
    "    # Сумма всех слагаемых в скобках\n",
    "    sum_inside_brackets = value_1 + value_2 + value_3 + value_4 + value_5\n",
    "    \n",
    "    # sin(x)\n",
    "    exponent = math.sin(x)\n",
    "    \n",
    "    # Возведение в степень sin(x)\n",
    "    y = sum_inside_brackets**exponent\n",
    "    \n",
    "    return y\n",
    "\n",
    "print(count_value(1.79))\n"
   ]
  },
  {
   "cell_type": "code",
   "execution_count": null,
   "id": "d72d836d",
   "metadata": {},
   "outputs": [
    {
     "name": "stdout",
     "output_type": "stream",
     "text": [
      "Есть контакт!\n"
     ]
    }
   ],
   "source": [
    "# Задача 1: Функция для поиска подстроки в строке\n",
    "\n",
    "def search_substr(subst, string):\n",
    "    if subst in string:\n",
    "        return \"Есть контакт!\"\n",
    "    else:\n",
    "        return \"Мимо!\"\n",
    "\n",
    "# Результат функции\n",
    "print(search_substr(\"hello\", \"hello world\"))"
   ]
  },
  {
   "cell_type": "code",
   "execution_count": 14,
   "id": "048c5315",
   "metadata": {},
   "outputs": [
    {
     "name": "stdout",
     "output_type": "stream",
     "text": [
      "Строка: hello world!\n",
      "3 наиболее часто встречаемых символа: [('l', 3), ('o', 2), ('h', 1)]\n"
     ]
    }
   ],
   "source": [
    "from collections import Counter\n",
    "\n",
    "def find_top_3_chars(text):\n",
    "\n",
    "    text_without_spaces = text.replace(\" \", \"\")\n",
    "    \n",
    "    counter_text = Counter(text_without_spaces)\n",
    "    \n",
    "    most_common = counter_text.most_common(3)\n",
    "    \n",
    "    return most_common\n",
    "\n",
    "# результат функции\n",
    "text = \"hello world!\"\n",
    "result = find_top_3_chars(text)\n",
    "\n",
    "print(\"Строка:\", text)\n",
    "print(\"3 наиболее часто встречаемых символа:\", result)"
   ]
  }
 ],
 "metadata": {
  "kernelspec": {
   "display_name": "venv",
   "language": "python",
   "name": "python3"
  },
  "language_info": {
   "codemirror_mode": {
    "name": "ipython",
    "version": 3
   },
   "file_extension": ".py",
   "mimetype": "text/x-python",
   "name": "python",
   "nbconvert_exporter": "python",
   "pygments_lexer": "ipython3",
   "version": "3.12.12"
  }
 },
 "nbformat": 4,
 "nbformat_minor": 5
}
